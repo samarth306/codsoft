{
  "nbformat": 4,
  "nbformat_minor": 0,
  "metadata": {
    "colab": {
      "provenance": [],
      "authorship_tag": "ABX9TyOQeNSbPSbSFBl8l71sy5sM",
      "include_colab_link": true
    },
    "kernelspec": {
      "name": "python3",
      "display_name": "Python 3"
    },
    "language_info": {
      "name": "python"
    }
  },
  "cells": [
    {
      "cell_type": "markdown",
      "metadata": {
        "id": "view-in-github",
        "colab_type": "text"
      },
      "source": [
        "<a href=\"https://colab.research.google.com/github/samarth306/codsoft/blob/main/To_Do_List.ipynb\" target=\"_parent\"><img src=\"https://colab.research.google.com/assets/colab-badge.svg\" alt=\"Open In Colab\"/></a>"
      ]
    },
    {
      "cell_type": "code",
      "source": [
        "tasks = []\n",
        "\n",
        "while True:\n",
        "    print(\"\\nTo-Do List Menu:\")\n",
        "    print(\"1. Add Task\")\n",
        "    print(\"2. View Tasks\")\n",
        "    print(\"3. Remove Task\")\n",
        "    print(\"4. Exit\")\n",
        "\n",
        "    choice = input(\"Choose an option (1-4): \")\n",
        "\n",
        "    if choice == '1':\n",
        "        task = input(\"Enter a new task: \")\n",
        "        tasks.append(task)\n",
        "        print(f'Task \"{task}\" added.')\n",
        "\n",
        "    elif choice == '2':\n",
        "        if not tasks:\n",
        "            print(\"Your to-do list is empty.\")\n",
        "        else:\n",
        "            print(\"Your To-Do List:\")\n",
        "            for index, task in enumerate(tasks, start=1):\n",
        "                print(f\"{index}. {task}\")\n",
        "\n",
        "    elif choice == '3':\n",
        "        if not tasks:\n",
        "            print(\"Your to-do list is empty.\")\n",
        "        else:\n",
        "            print(\"Your To-Do List:\")\n",
        "            for index, task in enumerate(tasks, start=1):\n",
        "                print(f\"{index}. {task}\")\n",
        "            task_num = int(input(\"Enter the task number to remove: \"))\n",
        "            if 1 <= task_num <= len(tasks):\n",
        "                removed_task = tasks.pop(task_num - 1)\n",
        "                print(f'Task \"{removed_task}\" removed.')\n",
        "            else:\n",
        "                print(\"Invalid task number.\")\n",
        "\n",
        "    elif choice == '4':\n",
        "        print(\"Goodbye!\")\n",
        "        break\n",
        "\n",
        "    else:\n",
        "        print(\"Invalid option. Please try again.\")"
      ],
      "metadata": {
        "colab": {
          "base_uri": "https://localhost:8080/"
        },
        "id": "gnHwXOLVscgr",
        "outputId": "4f9f99c7-7e40-4ecc-ae29-03c004d49030"
      },
      "execution_count": 2,
      "outputs": [
        {
          "output_type": "stream",
          "name": "stdout",
          "text": [
            "\n",
            "To-Do List Menu:\n",
            "1. Add Task\n",
            "2. View Tasks\n",
            "3. Remove Task\n",
            "4. Exit\n",
            "Choose an option (1-4): 1\n",
            "Enter a new task: play\n",
            "Task \"play\" added.\n",
            "\n",
            "To-Do List Menu:\n",
            "1. Add Task\n",
            "2. View Tasks\n",
            "3. Remove Task\n",
            "4. Exit\n",
            "Choose an option (1-4): 2\n",
            "Your To-Do List:\n",
            "1. play\n",
            "\n",
            "To-Do List Menu:\n",
            "1. Add Task\n",
            "2. View Tasks\n",
            "3. Remove Task\n",
            "4. Exit\n",
            "Choose an option (1-4): 4\n",
            "Goodbye!\n"
          ]
        }
      ]
    }
  ]
}