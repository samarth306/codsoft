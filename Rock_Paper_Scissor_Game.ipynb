{
  "nbformat": 4,
  "nbformat_minor": 0,
  "metadata": {
    "colab": {
      "provenance": [],
      "authorship_tag": "ABX9TyOxtc6kp6mYoqUk/aeedIbc",
      "include_colab_link": true
    },
    "kernelspec": {
      "name": "python3",
      "display_name": "Python 3"
    },
    "language_info": {
      "name": "python"
    }
  },
  "cells": [
    {
      "cell_type": "markdown",
      "metadata": {
        "id": "view-in-github",
        "colab_type": "text"
      },
      "source": [
        "<a href=\"https://colab.research.google.com/github/samarth306/codsoft/blob/main/Rock_Paper_Scissor_Game.ipynb\" target=\"_parent\"><img src=\"https://colab.research.google.com/assets/colab-badge.svg\" alt=\"Open In Colab\"/></a>"
      ]
    },
    {
      "cell_type": "markdown",
      "source": [
        "#Import lIBRARIES"
      ],
      "metadata": {
        "id": "M_Wrr1hwKPgc"
      }
    },
    {
      "cell_type": "code",
      "source": [
        "import random"
      ],
      "metadata": {
        "id": "oPu6L6x3KS8N"
      },
      "execution_count": 16,
      "outputs": []
    },
    {
      "cell_type": "markdown",
      "source": [
        "# List of choices"
      ],
      "metadata": {
        "id": "8xjJxsGKMlQG"
      }
    },
    {
      "cell_type": "code",
      "source": [
        "a = ['rock', 'paper', 'scissor']"
      ],
      "metadata": {
        "id": "4f953ZIqKl6j"
      },
      "execution_count": 17,
      "outputs": []
    },
    {
      "cell_type": "markdown",
      "source": [
        "# Randomly choose one option"
      ],
      "metadata": {
        "id": "csUTN11HMqUw"
      }
    },
    {
      "cell_type": "code",
      "source": [
        "c = random.choice(a)"
      ],
      "metadata": {
        "id": "sn0c3JkfMslh"
      },
      "execution_count": 18,
      "outputs": []
    },
    {
      "cell_type": "markdown",
      "source": [
        "# Determine the outcome"
      ],
      "metadata": {
        "id": "dFLG9AHoMytq"
      }
    },
    {
      "cell_type": "code",
      "source": [
        "b = input('Enter (ROCK, PAPER, SCISSOR): ').lower()\n",
        "if b == 'paper' and c == 'rock':\n",
        "    print(c.upper(), 'You Won')\n",
        "elif b == 'rock' and c == 'scissor':\n",
        "    print(c.upper(), 'You Won')\n",
        "elif b == 'scissor' and c == 'paper':\n",
        "    print(c.upper(), 'You Won')\n",
        "elif b == c:\n",
        "    print(c.upper(),'It’s a Tie')\n",
        "else:\n",
        "    print(c.upper(), 'You Lose')"
      ],
      "metadata": {
        "colab": {
          "base_uri": "https://localhost:8080/"
        },
        "id": "egLxsxw7M0pX",
        "outputId": "f7542e61-88dd-4444-c457-3498f66ceeb0"
      },
      "execution_count": 26,
      "outputs": [
        {
          "output_type": "stream",
          "name": "stdout",
          "text": [
            "Enter (ROCK, PAPER, SCISSOR): scissor\n",
            "ROCK You Lose\n"
          ]
        }
      ]
    }
  ]
}